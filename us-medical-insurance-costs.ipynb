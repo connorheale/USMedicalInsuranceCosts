{
 "cells": [
  {
   "cell_type": "markdown",
   "metadata": {},
   "source": [
    "# U.S. Medical Insurance Costs"
   ]
  },
  {
   "cell_type": "markdown",
   "metadata": {},
   "source": [
    "The goal of this project is to explore a dataset of insurance costs, import it to be organized, and ultimately determine which region has the highest average insurance cost."
   ]
  },
  {
   "cell_type": "code",
   "execution_count": 41,
   "metadata": {},
   "outputs": [],
   "source": [
    "#import insurance cost csv dataset\n",
    "import csv\n",
    "\n",
    "insurance_data = []\n",
    "with open('insurance.csv', newline='') as insurance_csv:\n",
    "    insurance_reader = csv.DictReader(insurance_csv)\n",
    "    for row in insurance_reader:\n",
    "        insurance_data.append(row)"
   ]
  },
  {
   "cell_type": "code",
   "execution_count": 9,
   "metadata": {},
   "outputs": [],
   "source": [
    "#save each column\n",
    "ages = [entry['age'] for entry in insurance_data]\n",
    "sexes = [entry['sex'] for entry in insurance_data]\n",
    "bmis = [entry['bmi'] for entry in insurance_data]\n",
    "num_children = [entry['children'] for entry in insurance_data]\n",
    "smoker_status = [entry['smoker'] for entry in insurance_data]\n",
    "regions = [entry['region'] for entry in insurance_data]\n",
    "insurance_costs = [entry['charges'] for entry in insurance_data]"
   ]
  },
  {
   "cell_type": "code",
   "execution_count": 14,
   "metadata": {},
   "outputs": [
    {
     "name": "stdout",
     "output_type": "stream",
     "text": [
      "13270.42\n"
     ]
    }
   ],
   "source": [
    "#average across all regions\n",
    "def get_average(column):\n",
    "    total = 0\n",
    "    for entry in column:\n",
    "        total += float(entry)\n",
    "    average = total / len(column)\n",
    "    return average\n",
    "#get average cost\n",
    "average_cost = round(get_average(insurance_costs), 2)\n",
    "print(round(get_average(insurance_costs), 2))"
   ]
  },
  {
   "cell_type": "code",
   "execution_count": 39,
   "metadata": {},
   "outputs": [
    {
     "name": "stdout",
     "output_type": "stream",
     "text": [
      "['southwest', 'southeast', 'northwest', 'northeast']\n",
      "{'southwest': 12346.94, 'southeast': 14735.41, 'northwest': 12417.58, 'northeast': 13406.38}\n",
      "The region with the highest average insurance cost is the southeast with an average cost of $14735.41, \n",
      "which is $1464.99 above the average across all regions.\n"
     ]
    }
   ],
   "source": [
    "#average cost by region\n",
    "def get_average_by_region(region, insurance_data):\n",
    "    total_by_region = 0\n",
    "    total_entries_by_region = 0\n",
    "    for entry in insurance_data:\n",
    "        if entry['region'] == region:\n",
    "            total_by_region += float(entry['charges'])\n",
    "            total_entries_by_region += 1\n",
    "    average_by_region = total_by_region / total_entries_by_region\n",
    "    return average_by_region\n",
    "#find each region\n",
    "all_regions = []\n",
    "for region in regions:\n",
    "    if region not in all_regions:\n",
    "        all_regions.append(region)\n",
    "print(all_regions)\n",
    "#call function on each region\n",
    "average_cost_by_region_dict = {}\n",
    "for region in all_regions:\n",
    "    average_cost_by_region_dict[region] = round(get_average_by_region(region, insurance_data),2)\n",
    "print(average_cost_by_region_dict)\n",
    "#find region with highest average cost\n",
    "max_value = 0\n",
    "max_region = ''\n",
    "for key, value in average_cost_by_region_dict.items():\n",
    "    if value > max_value:\n",
    "        max_value = value\n",
    "        max_region = key\n",
    "print('The region with the highest average insurance cost is the {max_region} with an average cost of ${max_value}, \\nwhich is ${difference} above the average across all regions.'.format(max_region=max_region, max_value=max_value, difference=round((max_value-average_cost),2)))"
   ]
  }
 ],
 "metadata": {
  "kernelspec": {
   "display_name": "Python 3 (ipykernel)",
   "language": "python",
   "name": "python3"
  },
  "language_info": {
   "codemirror_mode": {
    "name": "ipython",
    "version": 3
   },
   "file_extension": ".py",
   "mimetype": "text/x-python",
   "name": "python",
   "nbconvert_exporter": "python",
   "pygments_lexer": "ipython3",
   "version": "3.10.10"
  }
 },
 "nbformat": 4,
 "nbformat_minor": 4
}
